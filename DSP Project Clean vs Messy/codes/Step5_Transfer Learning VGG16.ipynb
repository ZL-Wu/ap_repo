{
 "cells": [
  {
   "cell_type": "code",
   "execution_count": 1,
   "metadata": {},
   "outputs": [
    {
     "name": "stderr",
     "output_type": "stream",
     "text": [
      "C:\\Users\\97905\\Anaconda3\\lib\\site-packages\\tensorflow\\python\\framework\\dtypes.py:526: FutureWarning: Passing (type, 1) or '1type' as a synonym of type is deprecated; in a future version of numpy, it will be understood as (type, (1,)) / '(1,)type'.\n",
      "  _np_qint8 = np.dtype([(\"qint8\", np.int8, 1)])\n",
      "C:\\Users\\97905\\Anaconda3\\lib\\site-packages\\tensorflow\\python\\framework\\dtypes.py:527: FutureWarning: Passing (type, 1) or '1type' as a synonym of type is deprecated; in a future version of numpy, it will be understood as (type, (1,)) / '(1,)type'.\n",
      "  _np_quint8 = np.dtype([(\"quint8\", np.uint8, 1)])\n",
      "C:\\Users\\97905\\Anaconda3\\lib\\site-packages\\tensorflow\\python\\framework\\dtypes.py:528: FutureWarning: Passing (type, 1) or '1type' as a synonym of type is deprecated; in a future version of numpy, it will be understood as (type, (1,)) / '(1,)type'.\n",
      "  _np_qint16 = np.dtype([(\"qint16\", np.int16, 1)])\n",
      "C:\\Users\\97905\\Anaconda3\\lib\\site-packages\\tensorflow\\python\\framework\\dtypes.py:529: FutureWarning: Passing (type, 1) or '1type' as a synonym of type is deprecated; in a future version of numpy, it will be understood as (type, (1,)) / '(1,)type'.\n",
      "  _np_quint16 = np.dtype([(\"quint16\", np.uint16, 1)])\n",
      "C:\\Users\\97905\\Anaconda3\\lib\\site-packages\\tensorflow\\python\\framework\\dtypes.py:530: FutureWarning: Passing (type, 1) or '1type' as a synonym of type is deprecated; in a future version of numpy, it will be understood as (type, (1,)) / '(1,)type'.\n",
      "  _np_qint32 = np.dtype([(\"qint32\", np.int32, 1)])\n",
      "C:\\Users\\97905\\Anaconda3\\lib\\site-packages\\tensorflow\\python\\framework\\dtypes.py:535: FutureWarning: Passing (type, 1) or '1type' as a synonym of type is deprecated; in a future version of numpy, it will be understood as (type, (1,)) / '(1,)type'.\n",
      "  np_resource = np.dtype([(\"resource\", np.ubyte, 1)])\n"
     ]
    }
   ],
   "source": [
    "from tensorflow.keras.models import Sequential\n",
    "from tensorflow.keras.layers import Conv2D\n",
    "from tensorflow.keras.layers import MaxPooling2D\n",
    "from tensorflow.keras.layers import Flatten\n",
    "from tensorflow.keras.layers import Dense\n",
    "from tensorflow.keras.preprocessing.image import ImageDataGenerator\n",
    "import tensorflow as tf\n",
    "import matplotlib.pyplot as plt\n",
    "import numpy as np\n",
    "import tensorflow.keras as keras\n",
    "from tensorflow.keras.applications import VGG16\n",
    "from tensorflow.keras.callbacks import TensorBoard"
   ]
  },
  {
   "cell_type": "code",
   "execution_count": 2,
   "metadata": {},
   "outputs": [
    {
     "name": "stdout",
     "output_type": "stream",
     "text": [
      "WARNING:tensorflow:From C:\\Users\\97905\\Anaconda3\\lib\\site-packages\\tensorflow\\python\\ops\\resource_variable_ops.py:435: colocate_with (from tensorflow.python.framework.ops) is deprecated and will be removed in a future version.\n",
      "Instructions for updating:\n",
      "Colocations handled automatically by placer.\n"
     ]
    }
   ],
   "source": [
    "##VGG16\n",
    "conv_base=VGG16(weights='imagenet',include_top=False,input_shape=(128,128,3))\n",
    "conv_base.trainable = False"
   ]
  },
  {
   "cell_type": "code",
   "execution_count": 3,
   "metadata": {},
   "outputs": [],
   "source": [
    "#Initialize the CNN\n",
    "classifier = Sequential()\n",
    "\n",
    "classifier.add(conv_base)\n",
    "\n",
    "##POOLING\n",
    "classifier.add(MaxPooling2D(pool_size = (2, 2)))\n",
    "\n",
    "\n",
    "classifier.add(Flatten())\n",
    "classifier.add(Dense(256, activation='relu'))\n",
    "classifier.add(Dense(1, activation='sigmoid'))\n"
   ]
  },
  {
   "cell_type": "code",
   "execution_count": 4,
   "metadata": {},
   "outputs": [
    {
     "name": "stdout",
     "output_type": "stream",
     "text": [
      "_________________________________________________________________\n",
      "Layer (type)                 Output Shape              Param #   \n",
      "=================================================================\n",
      "vgg16 (Model)                (None, 4, 4, 512)         14714688  \n",
      "_________________________________________________________________\n",
      "max_pooling2d (MaxPooling2D) (None, 2, 2, 512)         0         \n",
      "_________________________________________________________________\n",
      "flatten (Flatten)            (None, 2048)              0         \n",
      "_________________________________________________________________\n",
      "dense (Dense)                (None, 256)               524544    \n",
      "_________________________________________________________________\n",
      "dense_1 (Dense)              (None, 1)                 257       \n",
      "=================================================================\n",
      "Total params: 15,239,489\n",
      "Trainable params: 524,801\n",
      "Non-trainable params: 14,714,688\n",
      "_________________________________________________________________\n"
     ]
    }
   ],
   "source": [
    "classifier.summary()"
   ]
  },
  {
   "cell_type": "code",
   "execution_count": 5,
   "metadata": {},
   "outputs": [],
   "source": [
    "classifier.compile(optimizer='adam',loss='binary_crossentropy',metrics=['acc'])"
   ]
  },
  {
   "cell_type": "code",
   "execution_count": 6,
   "metadata": {},
   "outputs": [],
   "source": [
    "train_datagen = ImageDataGenerator(\n",
    "    rescale=1./ 255,\n",
    "    rotation_range=40,\n",
    "    width_shift_range=0.2,\n",
    "    height_shift_range=0.2,\n",
    "    shear_range=0.2,\n",
    "    zoom_range=0.2,\n",
    "    horizontal_flip=True,\n",
    "    validation_split=0.2\n",
    ")\n"
   ]
  },
  {
   "cell_type": "code",
   "execution_count": 7,
   "metadata": {},
   "outputs": [],
   "source": [
    "test_datagen = ImageDataGenerator(rescale = 1./255)"
   ]
  },
  {
   "cell_type": "code",
   "execution_count": 8,
   "metadata": {},
   "outputs": [
    {
     "name": "stdout",
     "output_type": "stream",
     "text": [
      "Found 224 images belonging to 2 classes.\n"
     ]
    }
   ],
   "source": [
    "train_generator = train_datagen.flow_from_directory(\n",
    "    'dataset/Train',\n",
    "    target_size=(128, 128),\n",
    "    batch_size=30,\n",
    "    class_mode='binary',\n",
    "    subset='training') # set as training data"
   ]
  },
  {
   "cell_type": "code",
   "execution_count": 9,
   "metadata": {},
   "outputs": [
    {
     "name": "stdout",
     "output_type": "stream",
     "text": [
      "Found 56 images belonging to 2 classes.\n"
     ]
    }
   ],
   "source": [
    "validation_generator = train_datagen.flow_from_directory(\n",
    "    'dataset/Train', # same directory as training data\n",
    "    target_size=(128, 128),\n",
    "    batch_size=30,\n",
    "    class_mode='binary',\n",
    "    subset='validation') # set as validation data\n"
   ]
  },
  {
   "cell_type": "code",
   "execution_count": 10,
   "metadata": {},
   "outputs": [
    {
     "name": "stdout",
     "output_type": "stream",
     "text": [
      "WARNING:tensorflow:From C:\\Users\\97905\\Anaconda3\\lib\\site-packages\\tensorflow\\python\\ops\\math_ops.py:3066: to_int32 (from tensorflow.python.ops.math_ops) is deprecated and will be removed in a future version.\n",
      "Instructions for updating:\n",
      "Use tf.cast instead.\n",
      "Epoch 1/15\n",
      "2/2 [==============================] - 7s 4s/step - loss: 0.2257 - acc: 0.9107\n",
      "8/8 [==============================] - 33s 4s/step - loss: 0.4572 - acc: 0.7589 - val_loss: 0.2257 - val_acc: 0.9107\n",
      "Epoch 2/15\n",
      "2/2 [==============================] - 8s 4s/step - loss: 0.1634 - acc: 0.9286\n",
      "8/8 [==============================] - 31s 4s/step - loss: 0.2340 - acc: 0.9018 - val_loss: 0.1634 - val_acc: 0.9286\n",
      "Epoch 3/15\n",
      "2/2 [==============================] - 7s 4s/step - loss: 0.1900 - acc: 0.9286\n",
      "8/8 [==============================] - 32s 4s/step - loss: 0.2208 - acc: 0.8929 - val_loss: 0.1900 - val_acc: 0.9286\n",
      "Epoch 4/15\n",
      "2/2 [==============================] - 7s 3s/step - loss: 0.1775 - acc: 0.9464\n",
      "8/8 [==============================] - 31s 4s/step - loss: 0.1971 - acc: 0.9152 - val_loss: 0.1775 - val_acc: 0.9464\n",
      "Epoch 5/15\n",
      "2/2 [==============================] - 10s 5s/step - loss: 0.2703 - acc: 0.8750\n",
      "8/8 [==============================] - 37s 5s/step - loss: 0.1638 - acc: 0.9196 - val_loss: 0.2703 - val_acc: 0.8750\n",
      "Epoch 6/15\n",
      "2/2 [==============================] - 12s 6s/step - loss: 0.1073 - acc: 0.9643\n",
      "8/8 [==============================] - 45s 6s/step - loss: 0.1271 - acc: 0.9464 - val_loss: 0.1073 - val_acc: 0.9643\n",
      "Epoch 7/15\n",
      "2/2 [==============================] - 11s 6s/step - loss: 0.0881 - acc: 0.9643\n",
      "8/8 [==============================] - 47s 6s/step - loss: 0.1103 - acc: 0.9464 - val_loss: 0.0881 - val_acc: 0.9643\n",
      "Epoch 8/15\n",
      "2/2 [==============================] - 12s 6s/step - loss: 0.2078 - acc: 0.8929\n",
      "8/8 [==============================] - 49s 6s/step - loss: 0.1320 - acc: 0.9554 - val_loss: 0.2078 - val_acc: 0.8929\n",
      "Epoch 9/15\n",
      "2/2 [==============================] - 12s 6s/step - loss: 0.2414 - acc: 0.9286\n",
      "8/8 [==============================] - 54s 7s/step - loss: 0.1063 - acc: 0.9598 - val_loss: 0.2414 - val_acc: 0.9286\n",
      "Epoch 10/15\n",
      "2/2 [==============================] - 13s 6s/step - loss: 0.1253 - acc: 0.9464\n",
      "8/8 [==============================] - 53s 7s/step - loss: 0.0870 - acc: 0.9777 - val_loss: 0.1253 - val_acc: 0.9464\n",
      "Epoch 11/15\n",
      "2/2 [==============================] - 12s 6s/step - loss: 0.2114 - acc: 0.8929\n",
      "8/8 [==============================] - 51s 6s/step - loss: 0.1133 - acc: 0.9554 - val_loss: 0.2114 - val_acc: 0.8929\n",
      "Epoch 12/15\n",
      "2/2 [==============================] - 12s 6s/step - loss: 0.1787 - acc: 0.9107\n",
      "8/8 [==============================] - 53s 7s/step - loss: 0.0843 - acc: 0.9732 - val_loss: 0.1787 - val_acc: 0.9107\n",
      "Epoch 13/15\n",
      "2/2 [==============================] - 13s 6s/step - loss: 0.1711 - acc: 0.9286\n",
      "8/8 [==============================] - 53s 7s/step - loss: 0.0562 - acc: 0.9821 - val_loss: 0.1711 - val_acc: 0.9286\n",
      "Epoch 14/15\n",
      "2/2 [==============================] - 11s 6s/step - loss: 0.1112 - acc: 0.9643\n",
      "8/8 [==============================] - 52s 7s/step - loss: 0.1245 - acc: 0.9554 - val_loss: 0.1112 - val_acc: 0.9643\n",
      "Epoch 15/15\n",
      "2/2 [==============================] - 9s 5s/step - loss: 0.3237 - acc: 0.9286\n",
      "8/8 [==============================] - 42s 5s/step - loss: 0.1085 - acc: 0.9509 - val_loss: 0.3237 - val_acc: 0.9286\n"
     ]
    }
   ],
   "source": [
    "hist = classifier.fit_generator(\n",
    "      train_generator,\n",
    "      steps_per_epoch=90,\n",
    "      epochs=15,\n",
    "      validation_data=validation_generator,\n",
    "      validation_steps=32,callbacks=[TensorBoard(log_dir='logs/3')])"
   ]
  },
  {
   "cell_type": "markdown",
   "metadata": {},
   "source": [
    "### Evaluate Model"
   ]
  },
  {
   "cell_type": "markdown",
   "metadata": {},
   "source": [
    "### Plot Learning Rate"
   ]
  },
  {
   "cell_type": "code",
   "execution_count": 11,
   "metadata": {},
   "outputs": [
    {
     "data": {
      "image/png": "[encoded data removed]",
      "text/plain": [
       "<Figure size 1440x180 with 2 Axes>"
      ]
     },
     "metadata": {
      "needs_background": "light"
     },
     "output_type": "display_data"
    }
   ],
   "source": [
    "acc = hist.history['acc']\n",
    "val_acc = hist.history['val_acc']\n",
    "loss = hist.history['loss']\n",
    "val_loss = hist.history['val_loss']\n",
    " \n",
    "epochs = range(len(acc))\n",
    "\n",
    "plt.figure(figsize=(20,2.5))\n",
    "\n",
    "plt.subplot(121) \n",
    "plt.plot(epochs, acc, 'b-', label='Training accuracy')\n",
    "plt.plot(epochs, val_acc, 'r-', alpha = 0.5,label='Validation accuracy')\n",
    "plt.title('Training and validation accuracy')\n",
    "plt.ylabel('accuracy')\n",
    "plt.xlabel('epoch')\n",
    "plt.legend()\n",
    "\n",
    "plt.subplot(122)\n",
    "plt.plot(epochs, loss, 'b-', label='Training loss')\n",
    "plt.plot(epochs, val_loss, 'r-', alpha = 0.5, label='Validation loss')\n",
    "plt.title('Training and validation loss')\n",
    "plt.ylabel('loss')\n",
    "plt.xlabel('epoch')\n",
    "plt.legend()\n",
    " \n",
    "plt.show()"
   ]
  },
  {
   "cell_type": "markdown",
   "metadata": {},
   "source": [
    "### On test set"
   ]
  },
  {
   "cell_type": "code",
   "execution_count": null,
   "metadata": {},
   "outputs": [],
   "source": [
    "# Load the data for making predictions\n",
    "test_datagen = ImageDataGenerator(rescale = 1./255)\n",
    "prediction_set = test_datagen.flow_from_directory('dataset/Test', # relative path from working directoy\n",
    "                                            target_size = (128, 128),batch_size=1,\n",
    "                                            class_mode = 'binary')"
   ]
  },
  {
   "cell_type": "code",
   "execution_count": null,
   "metadata": {},
   "outputs": [],
   "source": [
    "predictions=classifier.predict(prediction_set)"
   ]
  },
  {
   "cell_type": "code",
   "execution_count": null,
   "metadata": {},
   "outputs": [],
   "source": [
    "i=np.random.choice(len(predictions))"
   ]
  },
  {
   "cell_type": "code",
   "execution_count": null,
   "metadata": {},
   "outputs": [],
   "source": [
    "plt.imshow(prediction_set[i][0][0])\n",
    "print(\"This room is predicted as\",\"clean\" if predictions[i] > 0.5 else \"messy\")"
   ]
  },
  {
   "cell_type": "code",
   "execution_count": null,
   "metadata": {},
   "outputs": [],
   "source": [
    "plt.figure(figsize=(15,10))\n",
    "for i in range(10):\n",
    "    plt.subplot(4,3,i+1)\n",
    "    plt.imshow(prediction_set[i][0][0])\n",
    "    plt.axis('off')\n",
    "    plt.title(\"Clean \"+str(predictions[i])  if predictions[i] > 0.5 else \"Messy \"+str(predictions[i]), fontsize=20)\n",
    "    print(predictions[i])"
   ]
  },
  {
   "cell_type": "code",
   "execution_count": null,
   "metadata": {},
   "outputs": [],
   "source": []
  }
 ],
 "metadata": {
  "kernelspec": {
   "display_name": "Python 3",
   "language": "python",
   "name": "python3"
  },
  "language_info": {
   "codemirror_mode": {
    "name": "ipython",
    "version": 3
   },
   "file_extension": ".py",
   "mimetype": "text/x-python",
   "name": "python",
   "nbconvert_exporter": "python",
   "pygments_lexer": "ipython3",
   "version": "3.7.3"
  }
 },
 "nbformat": 4,
 "nbformat_minor": 2
}
