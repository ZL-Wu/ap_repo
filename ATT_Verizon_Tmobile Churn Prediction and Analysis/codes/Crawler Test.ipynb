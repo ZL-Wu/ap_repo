{
 "cells": [
  {
   "cell_type": "code",
   "execution_count": 1,
   "metadata": {},
   "outputs": [],
   "source": [
    "import requests"
   ]
  },
  {
   "cell_type": "code",
   "execution_count": 2,
   "metadata": {},
   "outputs": [],
   "source": [
    "r = requests.get(\"https://t.co/ASWbAUtNuk\", stream=True)"
   ]
  },
  {
   "cell_type": "code",
   "execution_count": 11,
   "metadata": {},
   "outputs": [],
   "source": [
    "# print(r.text)"
   ]
  },
  {
   "cell_type": "code",
   "execution_count": 12,
   "metadata": {},
   "outputs": [],
   "source": [
    "# print(type(r.text))  # <class 'str'>"
   ]
  },
  {
   "cell_type": "code",
   "execution_count": 10,
   "metadata": {},
   "outputs": [],
   "source": [
    "# print(r.json())  # json解析  #{'message': 'Hello there, wayfaring stranger."
   ]
  },
  {
   "cell_type": "code",
   "execution_count": 9,
   "metadata": {},
   "outputs": [],
   "source": [
    "# print(type(r.json()))  # <class 'dict'>"
   ]
  },
  {
   "cell_type": "code",
   "execution_count": 8,
   "metadata": {},
   "outputs": [
    {
     "name": "stdout",
     "output_type": "stream",
     "text": [
      "<urllib3.response.HTTPResponse object at 0x1052439e8>\n"
     ]
    }
   ],
   "source": [
    "print(r.raw)  # 获取套接字"
   ]
  },
  {
   "cell_type": "code",
   "execution_count": 13,
   "metadata": {},
   "outputs": [],
   "source": [
    "from bs4 import BeautifulSoup\n",
    "import requests"
   ]
  },
  {
   "cell_type": "code",
   "execution_count": 47,
   "metadata": {},
   "outputs": [],
   "source": [
    "html=requests.get('https://t.co/ASWbAUtNuk').text\n",
    "soup=BeautifulSoup(html,'html.parser')\n",
    "\n",
    "# links = soup.find_all('div',class_='css-901oao r-jwli3a r-1qd0xha r-1blvdjr r-16dba41 r-ad9z0x r-bcqeeo r-19yat4t r-bnwqim r-qvutc0')\n",
    "# links = soup.find_all('input', class_='json-data')"
   ]
  },
  {
   "cell_type": "code",
   "execution_count": 53,
   "metadata": {},
   "outputs": [],
   "source": [
    "title = soup.find_all('title')"
   ]
  },
  {
   "cell_type": "code",
   "execution_count": 54,
   "metadata": {},
   "outputs": [
    {
     "name": "stdout",
     "output_type": "stream",
     "text": [
      "[<title>EdMart on Twitter: \"Being a @ATT customer for 10 years and switch to @tmobilepr back in DEC was the best decision. And with today’s news even better. Thank you!🇵🇷🇵🇷… https://t.co/ASWbAUtNuk\"</title>]\n"
     ]
    }
   ],
   "source": [
    "print(title)"
   ]
  },
  {
   "cell_type": "code",
   "execution_count": 55,
   "metadata": {},
   "outputs": [
    {
     "name": "stdout",
     "output_type": "stream",
     "text": [
      "[<title>SierraMike on Twitter: \"@sprint, in the event that the merger fails, would get $600M, and there's been reporting that TMo may be able to avoid being liable for it entirely.… https://t.co/9jn5bg8Ehf\"</title>]\n"
     ]
    }
   ],
   "source": [
    "\n",
    "html=requests.get('https://t.co/9jn5bg8Ehf').text\n",
    "soup=BeautifulSoup(html,'html.parser')\n",
    "title = soup.find_all('title')\n",
    "print(title)"
   ]
  },
  {
   "cell_type": "code",
   "execution_count": 58,
   "metadata": {},
   "outputs": [],
   "source": [
    "\n",
    "html=requests.get('https://t.co/jsgVrvsY0H').text\n",
    "soup=BeautifulSoup(html,'html.parser')\n",
    "title = soup.find_all('title')\n"
   ]
  },
  {
   "cell_type": "code",
   "execution_count": 73,
   "metadata": {
    "scrolled": true
   },
   "outputs": [
    {
     "name": "stdout",
     "output_type": "stream",
     "text": [
      "Sky Empress on Twitter: \"Thats what I did. I had Tmobile...but when I switched from cable to satellite... ATT it was part of my package.  Plus I got a deal bc my daughter is a first responder...so if there's a disaster...she will get priority usage on cell towers.… https://t.co/jsgVrvsY0H\"\n"
     ]
    }
   ],
   "source": [
    "print(title[0].string)"
   ]
  },
  {
   "cell_type": "code",
   "execution_count": 70,
   "metadata": {},
   "outputs": [
    {
     "data": {
      "text/plain": [
       "bs4.element.Tag"
      ]
     },
     "execution_count": 70,
     "metadata": {},
     "output_type": "execute_result"
    }
   ],
   "source": [
    "type(title[0])"
   ]
  },
  {
   "cell_type": "code",
   "execution_count": 75,
   "metadata": {},
   "outputs": [
    {
     "name": "stdout",
     "output_type": "stream",
     "text": [
      "Thats what I did. I had Tmobile...but when I switched from cable to satellite... ATT it was part of my package.  Plus I got a deal bc my daughter is a first responder...so if there's a disaster...she will get priority usage on cell towers.… https://t.co/jsgVrvsY0H\"\n"
     ]
    }
   ],
   "source": [
    "print(title[0].string.split('on Twitter: \"')[1])\n"
   ]
  },
  {
   "cell_type": "code",
   "execution_count": null,
   "metadata": {},
   "outputs": [],
   "source": []
  }
 ],
 "metadata": {
  "kernelspec": {
   "display_name": "Python 3",
   "language": "python",
   "name": "python3"
  },
  "language_info": {
   "codemirror_mode": {
    "name": "ipython",
    "version": 3
   },
   "file_extension": ".py",
   "mimetype": "text/x-python",
   "name": "python",
   "nbconvert_exporter": "python",
   "pygments_lexer": "ipython3",
   "version": "3.7.3"
  }
 },
 "nbformat": 4,
 "nbformat_minor": 2
}
